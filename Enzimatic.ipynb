{
 "metadata": {
  "name": ""
 },
 "nbformat": 3,
 "nbformat_minor": 0,
 "worksheets": [
  {
   "cells": [
    {
     "cell_type": "markdown",
     "metadata": {},
     "source": [
      "Producci\u00f3n de FPP va a estar dada por \n",
      "$$\\dot{F} = \\frac{K_{c1}P A}{K_{M1}+A} - K_{c2}\\frac{J-(J^2-4EF)^{1/2}}{2} $$\n",
      "donde \n",
      "$F = [FPP]$, $A=[ABA]$, $P$ Enzima del plasmido, $E$ Enzima del Berg,  $K_1$ Constantes de la enzima del plasmido, $K_2$ Constantes de la enzima del Berg, $J = (E+F+K_{M2})$ \n",
      "\n",
      "Luego, para la produccion de Berg, se cumple una ecuacion de la forma\n",
      "$$\\dot{B} = K_{c2}\\frac{J-(J^2-4EF)^{1/2}}{2}$$"
     ]
    },
    {
     "cell_type": "code",
     "collapsed": false,
     "input": [
      "%pylab inline"
     ],
     "language": "python",
     "metadata": {},
     "outputs": [
      {
       "output_type": "stream",
       "stream": "stdout",
       "text": [
        "Populating the interactive namespace from numpy and matplotlib\n"
       ]
      }
     ],
     "prompt_number": 106
    },
    {
     "cell_type": "code",
     "collapsed": false,
     "input": [
      "#funcion que devuelve Fpunto\n",
      "def funcFpp (F,A,P,E, Kc1,Km1,Kc2,Km2):\n",
      "    J = E + F + Km2\n",
      "    v = Kc1*P*A/(Km1+A) - Kc2*(J-sqrt(J**2 - 4*E*F))/2\n",
      "    return v\n",
      "\n",
      "#funcion que devuelve Bpunto\n",
      "def funcB (F,E, B, Kc2,Km2):\n",
      "    g = 1/30.0\n",
      "    J = E + F + Km2\n",
      "    v = Kc2*(J-sqrt(J**2 - 4*E*F))/2 - g*B\n",
      "    return v"
     ],
     "language": "python",
     "metadata": {},
     "outputs": [],
     "prompt_number": 165
    },
    {
     "cell_type": "code",
     "collapsed": false,
     "input": [
      "#RK\n",
      "def RKFpp (listf, listfp, listb, listbp, lista, listp, liste, kc1,km1,kc2,km2, dt, tmax):\n",
      "    n = 0\n",
      "    while n < tmax/dt - 1:\n",
      "        ftest = listf[n]\n",
      "        fptest = listfp[n]\n",
      "        btest = listb[n]\n",
      "        bptest = listbp[n]\n",
      "    \n",
      "        K1 = fptest*dt\n",
      "        L1 = bptest*dt\n",
      "    \n",
      "        ftest= listf[n] + 0.5*K1\n",
      "        btest= listb[n] + 0.5*L1\n",
      "        fptest = funcFpp(ftest, lista[n], listp[n], liste[n], kc1, km1, kc2, km2)\n",
      "        bptest = funcB(ftest, liste[n], btest, kc2, km2)\n",
      "    \n",
      "        K2 = fptest*dt\n",
      "        L2 = bptest*dt\n",
      "    \n",
      "        ftest= listf[n] + 0.5*K2\n",
      "        btest= listb[n] + 0.5*L2\n",
      "        fptest = funcFpp(ftest, lista[n], listp[n], liste[n], kc1, km1, kc2, km2)\n",
      "        bptest = funcB(ftest, liste[n], btest, kc2, km2)\n",
      "    \n",
      "        K3 = fptest*dt\n",
      "        L3 = bptest*dt\n",
      "    \n",
      "        ftest= listf[n] + 0.5*K3\n",
      "        btest= listb[n] + 0.5*L3\n",
      "        fptest = funcFpp(ftest, lista[n], listp[n], liste[n], kc1, km1, kc2, km2)\n",
      "        bptest = funcB(ftest, liste[n], btest, kc2, km2)\n",
      "    \n",
      "        K4 = fptest*dt\n",
      "        L4 = bptest*dt\n",
      "    \n",
      "        K = (K4 + 2*K3 + 2*K2 + K1)/6.0\n",
      "        L = (L4 + 2*L3 + 2*L2 + L1)/6.0\n",
      "    \n",
      "        listf[n+1] = listf[n] + K\n",
      "        if(listf[n+1] < 0): \n",
      "            listf[n+1]=0\n",
      "        listfp[n+1] = funcFpp(listf[n+1], lista[n], listp[n], liste[n], kc1, km1, kc2, km2)\n",
      "        listb[n+1] = listb[n] + L\n",
      "        if(listb[n+1] < 0): \n",
      "                listb[n+1]=0\n",
      "        listbp[n+1] = funcB(listf[n+1], liste[n], listB[n+1], kc2, km2)\n",
      "        \n",
      "        \n",
      "    \n",
      "        n = n+1"
     ],
     "language": "python",
     "metadata": {},
     "outputs": [],
     "prompt_number": 168
    },
    {
     "cell_type": "code",
     "collapsed": false,
     "input": [
      "tmax = 100 #tiempo de simulacion\n",
      "dt=0.01 #paso\n",
      "\n",
      "listF = zeros(tmax/dt) #lista de F\n",
      "listFp = zeros(tmax/dt) #lista de F punto\n",
      "listT = arange(0,tmax,dt) #lista de tiempo\n",
      "\n",
      "listA = ones(tmax/dt)*0.01  #lista de Senal (en teoria es constante, por la herbivoria)\n",
      "listP = sin(listT)*0.01   #lista de Plasmido (entra al programa de la simulacion anterior) ahorita como si hubieran oscilaciones\n",
      "listE = ones(tmax/dt)*0.01  #lista de Enzima (entra al programa de la simulacion anterior)\n",
      "listB = zeros(tmax/dt)  #lista de Berg\n",
      "listBp = zeros(tmax/dt) #lista de Berg punto\n",
      "\n",
      "B0 = 0.0\n",
      "F0 = 0.0\n",
      "listF[0] = F0 #se inicializa el valor de FPP\n",
      "listB[0] = B0 #se inicializa el valor de FPP\n",
      "\n",
      "\n",
      "Kc1 = 0.065 #kcat produccion FPP\n",
      "Kc2 = 0.34 #kcat consumo FPP\n",
      "Km1 = 0.0048 #km produccion FPP\n",
      "Km2 = 0.0014 #km consumo FPP\n",
      "\n",
      "listFp[0] = funcFpp(listF[0], listA[0], listP[0], listE[0], Kc1, Km1, Kc2, Km2)\n",
      "listBp[0] = funcB(listF[0], listE[0], listB[0], Kc2, Km2)\n"
     ],
     "language": "python",
     "metadata": {},
     "outputs": [],
     "prompt_number": 170
    },
    {
     "cell_type": "code",
     "collapsed": false,
     "input": [
      "RKFpp(listF, listFp, listB, listBp, listA, listP, listE, Kc1, Km1, Kc2, Km2, dt, tmax)"
     ],
     "language": "python",
     "metadata": {},
     "outputs": [],
     "prompt_number": 171
    },
    {
     "cell_type": "code",
     "collapsed": false,
     "input": [
      "plot(listT, listF)\n",
      "plot(listT, listB)\n",
      "xlabel(\"Tiempo\")\n",
      "ylabel(\"Concentracion\")"
     ],
     "language": "python",
     "metadata": {},
     "outputs": [
      {
       "metadata": {},
       "output_type": "pyout",
       "prompt_number": 172,
       "text": [
        "<matplotlib.text.Text at 0xafc8acec>"
       ]
      },
      {
       "metadata": {},
       "output_type": "display_data",
       "png": "[encoded data removed]",
       "text": [
        "<matplotlib.figure.Figure at 0xafcb0dec>"
       ]
      }
     ],
     "prompt_number": 172
    },
    {
     "cell_type": "code",
     "collapsed": false,
     "input": [],
     "language": "python",
     "metadata": {},
     "outputs": []
    }
   ],
   "metadata": {}
  }
 ]
}