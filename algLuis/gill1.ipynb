{
 "metadata": {
  "name": ""
 },
 "nbformat": 3,
 "nbformat_minor": 0,
 "worksheets": [
  {
   "cells": [
    {
     "cell_type": "code",
     "collapsed": false,
     "input": [
      "%pylab inline\n",
      "import time"
     ],
     "language": "python",
     "metadata": {},
     "outputs": [
      {
       "output_type": "stream",
       "stream": "stdout",
       "text": [
        "Populating the interactive namespace from numpy and matplotlib\n"
       ]
      }
     ],
     "prompt_number": 6
    },
    {
     "cell_type": "code",
     "collapsed": false,
     "input": [
      "alphaS = 1.0\n",
      "betaS = 100.0\n",
      "KS = 100.0\n",
      "\n",
      "nS = 2.0\n",
      "gammarE = 1.0/5.0 #bye\n",
      "S = 2.0 #mirar funcion\n",
      "kE = 20.0\n",
      "gammaE = 1.0/30.0 #bye\n",
      "\n",
      "alphaRS = 1.0\n",
      "betaRSR = 50.0\n",
      "KR = 100.0\n",
      "nR = 2.0\n",
      "betaRSS = 100.0\n",
      "betaRSRS = 100.0\n",
      "gammarR = 1.0/5.0 #bye\n",
      "kR = 25 #revisar bien\n",
      "gammaR = 1.0/30.0 #bye\n",
      "kplus = 0.001\n",
      "kminus = 0.0005\n",
      "KM = 0.001\n",
      "kcat = 0.01\n",
      "kcatm = 0.01\n",
      "kMm = 0.001\n",
      "gammaB = 1.0/30.0 #bye\n",
      "A = 10.0 #mirar funcion\n",
      "\n",
      "E0 = 1\n",
      "R0 = 1"
     ],
     "language": "python",
     "metadata": {},
     "outputs": [],
     "prompt_number": 48
    },
    {
     "cell_type": "code",
     "collapsed": false,
     "input": [
      "def Astep(t_old, E_old, R_old, S_old):\n",
      "    \n",
      "    prodE = alphaS + betaS/(1 + (KS/S_old)**nS)\n",
      "    #degrE = gammarE*rE_old\n",
      "    \n",
      "    #prodE = kE*rE_old\n",
      "    degE = gammaE*E_old\n",
      "    \n",
      "    prodR1 = betaRSR/((KR/R_old)**nR + 1 + (S_old/KS)**nS*(KR/R_old)**nR + (S_old/KS)**nS)\n",
      "    prodR2 = betaRSS/((KS/S_old)**nS + (R_old/KR)**nR*(KS/S_old)**nS + 1 + (R_old/KR)**nR)\n",
      "    prodR3 = betaRSRS/((KR/R_old)**nR*(KS/S_old)**nS + (KS/S_old)**nS + (KR/R_old)**nR + 1)\n",
      "    \n",
      "    prodR = alphaRS + prodR1 + prodR2 + prodR3\n",
      "    #degrR = gammarR*rR_old\n",
      "    \n",
      "    #prodR = kR*rR_old\n",
      "    degR = gammaR*R_old\n",
      "    \n",
      "    #K = prodrE + degrE + prodE + degE + prodrR + degrR + prodR + degR\n",
      "    K = prodE + degE + prodR + degR\n",
      "    \n",
      "    \n",
      "    Dt = np.log(1.0/np.random.random())/K\n",
      "    which = np.random.random()\n",
      "    \n",
      "    t_new = t_old + Dt\n",
      "    \n",
      "    u1 = prodE/K\n",
      "    u2 = (prodE+degE)/K\n",
      "    u3 = (prodE+degE+prodR)/K\n",
      "    u4 = (prodE+degE+prodR+degR)/K\n",
      "    \n",
      "    if(which < u1):\n",
      "        E_new = E_old + kE/gammarE\n",
      "        R_new = R_old\n",
      "    elif(which >= u1 and which < u2):\n",
      "        E_new = E_old - 1\n",
      "        R_new = R_old\n",
      "    elif(which >= u2 and which < u3):\n",
      "        E_new = E_old\n",
      "        R_new = R_old + kR/gammarR\n",
      "    else:\n",
      "        E_new = E_old\n",
      "        R_new = R_old - 1\n",
      "    \n",
      "    return t_new, E_new, R_new"
     ],
     "language": "python",
     "metadata": {},
     "outputs": [],
     "prompt_number": 49
    },
    {
     "cell_type": "code",
     "collapsed": false,
     "input": [
      "def Onecell(dt, t_total):\n",
      "    \n",
      "    t = []\n",
      "    E = []\n",
      "    R = []\n",
      "    \n",
      "    t_c = 0\n",
      "    E_c = E0\n",
      "    R_c = R0\n",
      "    \n",
      "    t.append(0)\n",
      "    E.append(E0)\n",
      "    R.append(R0)\n",
      "    \n",
      "    while t_c < t_total:\n",
      "        \n",
      "        t_c, E_c, R_c = Astep(t_c, E_c, R_c, S)\n",
      "        \n",
      "        t.append(t_c)\n",
      "        E.append(E_c)\n",
      "        R.append(R_c)\n",
      "        \n",
      "        t_s = np.linspace(0, t_total-dt, int(t_total/dt))\n",
      "        E_s = np.zeros(len(t_s))\n",
      "        R_s = np.zeros(len(t_s))\n",
      "        \n",
      "        '''\n",
      "        j = 0\n",
      "        for i in range(len(t_s)):\n",
      "            while(t[j] < t_s[i]):\n",
      "                j+=1\n",
      "                \n",
      "            E_s[i] = E[j]\n",
      "            R_s[i] = R[j]\n",
      "        '''\n",
      "    return t, E, R"
     ],
     "language": "python",
     "metadata": {},
     "outputs": [],
     "prompt_number": 50
    },
    {
     "cell_type": "code",
     "collapsed": false,
     "input": [
      "t_total = 50\n",
      "dt = 0.01\n",
      "\n",
      "t, E, R = Onecell(dt,t_total)"
     ],
     "language": "python",
     "metadata": {},
     "outputs": [],
     "prompt_number": 51
    },
    {
     "cell_type": "code",
     "collapsed": false,
     "input": [
      "plot(t,R)\n",
      "plt.show()\n",
      "plt.close()"
     ],
     "language": "python",
     "metadata": {},
     "outputs": [
      {
       "metadata": {},
       "output_type": "display_data",
       "png": "[encoded data removed]",
       "text": [
        "<matplotlib.figure.Figure at 0x7f6753231590>"
       ]
      }
     ],
     "prompt_number": 52
    },
    {
     "cell_type": "code",
     "collapsed": false,
     "input": [],
     "language": "python",
     "metadata": {},
     "outputs": []
    }
   ],
   "metadata": {}
  }
 ]
}