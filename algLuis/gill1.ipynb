{
 "metadata": {
  "name": ""
 },
 "nbformat": 3,
 "nbformat_minor": 0,
 "worksheets": [
  {
   "cells": [
    {
     "cell_type": "code",
     "collapsed": false,
     "input": [
      "%pylab inline\n",
      "import time"
     ],
     "language": "python",
     "metadata": {},
     "outputs": [
      {
       "output_type": "stream",
       "stream": "stdout",
       "text": [
        "Populating the interactive namespace from numpy and matplotlib\n"
       ]
      }
     ],
     "prompt_number": 1
    },
    {
     "cell_type": "code",
     "collapsed": false,
     "input": [
      "alphaS = 1.0\n",
      "betaS = 100.0\n",
      "KS = 100.0\n",
      "\n",
      "nS = 2.0\n",
      "gammarE = 1.0/5.0 #bye\n",
      "S = 2.0 #mirar funcion\n",
      "kE = 20.0\n",
      "gammaE = 1.0/30.0 #bye\n",
      "\n",
      "alphaRS = 1.0\n",
      "betaRSR = 100.0\n",
      "KR = 100.0\n",
      "nR = 2.0\n",
      "betaRSS = 100.0\n",
      "betaRSRS = 100.0\n",
      "gammarR = 1.0/5.0 #bye\n",
      "kR = 25 #revisar bien\n",
      "gammaR = 1.0/30.0 #bye\n",
      "kplus = 0.001\n",
      "kminus = 0.0005\n",
      "KM = 0.001\n",
      "kcat = 0.01\n",
      "kcatm = 0.01\n",
      "kMm = 0.001\n",
      "gammaB = 1.0/30.0 #bye\n",
      "A = 10.0 #mirar funcion"
     ],
     "language": "python",
     "metadata": {},
     "outputs": [],
     "prompt_number": 2
    },
    {
     "cell_type": "code",
     "collapsed": false,
     "input": [
      "def step(t_old, rE_old, E_old, rR_old, R_old, S_old):\n",
      "    \n",
      "    prodrE = alphaS + betaS/(1 + (KS/S_old)**nS)\n",
      "    degrE = gammarE*rE_old\n",
      "    \n",
      "    prodE = kE*rE_old\n",
      "    degE = gammaE*E_old\n",
      "    \n",
      "    prodrR1 = betaRSR/((KR/R_old)**nR + 1 + (S_old/KS)**nS*(KR/R_old)**nR + (S_old/KS)**nS)\n",
      "    prodrR2 = betaRSS/((KS/S_old)**nS + (R_old/KR)**nR*(KS/S_old)**nS + 1 + (R_old/KR)**nR)\n",
      "    prodrR3 = betaRSRS/((KR/R_old)**nR*(KS/S_old)**nS + (KS/S_old)**nS + (KR/R_old)**nR + 1)\n",
      "    \n",
      "    prodrR = alphaRS + prodrR1 + prodrR2 + prodrR3\n",
      "    degrR = gammarR*rR_old\n",
      "    \n",
      "    prodR = kR*rR_old\n",
      "    degR = gammaR*R_old\n",
      "    \n",
      "    K = prodrE + degrE + prodE + degE + prodrR + degrR + prodR + degR\n",
      "    \n",
      "    Dt = np.log(1.0/np.random.random())/K\n",
      "    which = np.random.random()\n",
      "    \n",
      "    t_new = t_old + Dt\n",
      "    \n",
      "    u1 = prodrE/K\n",
      "    u2 = (prodrE+degrE)/K\n",
      "    u3 = (prodrE+degrE+prodE)/K\n",
      "    u4 = (prodrE+degrE+prodE)/K\n",
      "    u5 = (prodrE+degrE+prodE)\n",
      "    \n",
      "    if(which < prodrE/K):\n",
      "        rE_new = rE_old + 1\n",
      "        E_new = E_old\n",
      "        rR_new = rR_old\n",
      "        R_new = R_old\n",
      "    elif(which >= prodrE/K and which < (prodrE+degrE)/K):\n",
      "        rE_new = rE_old - 1\n",
      "        E_new = E_old\n",
      "        rR_new = rR_old\n",
      "        R_new = R_old\n",
      "    elif(which >= (prodrE+degrE)/K):\n",
      "        rE_new = rE_old\n",
      "        E_new = E_old\n",
      "        rR_new = rR_old\n",
      "        R_new = R_old\n",
      "    elif():\n",
      "        rE_new = rE_old\n",
      "        E_new = E_old\n",
      "        rR_new = rR_old\n",
      "        R_new = R_old\n",
      "    elif():\n",
      "        rE_new = rE_old\n",
      "        E_new = E_old\n",
      "        rR_new = rR_old\n",
      "        R_new = R_old \n",
      "    elif():\n",
      "        rE_new = rE_old\n",
      "        E_new = E_old\n",
      "        rR_new = rR_old\n",
      "        R_new = R_old\n",
      "    elif():\n",
      "        rE_new = rE_old\n",
      "        E_new = E_old\n",
      "        rR_new = rR_old\n",
      "        R_new = R_old\n",
      "    else:\n",
      "        rE_new = rE_old\n",
      "        E_new = E_old\n",
      "        rR_new = rR_old\n",
      "        R_new = R_old\n",
      "    \n",
      "    return t_new, rE_new, E_new, rR_new, R_new     "
     ],
     "language": "python",
     "metadata": {},
     "outputs": []
    },
    {
     "cell_type": "code",
     "collapsed": false,
     "input": [],
     "language": "python",
     "metadata": {},
     "outputs": [
      {
       "output_type": "stream",
       "stream": "stdout",
       "text": [
        "0.249670028687\n",
        "0.235949993134"
       ]
      },
      {
       "output_type": "stream",
       "stream": "stdout",
       "text": [
        "\n"
       ]
      }
     ],
     "prompt_number": 41
    },
    {
     "cell_type": "code",
     "collapsed": false,
     "input": [],
     "language": "python",
     "metadata": {},
     "outputs": []
    }
   ],
   "metadata": {}
  }
 ]
}