{
 "metadata": {
  "name": ""
 },
 "nbformat": 3,
 "nbformat_minor": 0,
 "worksheets": [
  {
   "cells": [
    {
     "cell_type": "code",
     "collapsed": false,
     "input": [
      "%pylab inline\n",
      "import time"
     ],
     "language": "python",
     "metadata": {},
     "outputs": [
      {
       "output_type": "stream",
       "stream": "stdout",
       "text": [
        "Populating the interactive namespace from numpy and matplotlib\n"
       ]
      }
     ],
     "prompt_number": 1
    },
    {
     "cell_type": "code",
     "collapsed": false,
     "input": [
      "alphaS = 1.0\n",
      "betaS = 100.0\n",
      "KS = 100.0\n",
      "\n",
      "nS = 2.0\n",
      "gammarE = 1.0/5.0 #bye\n",
      "S = 2.0 #mirar funcion\n",
      "kE = 20.0\n",
      "gammaE = 1.0/30.0 #bye\n",
      "\n",
      "alphaRS = 1.0\n",
      "betaRSR = 50.0\n",
      "KR = 100.0\n",
      "nR = 2.0\n",
      "betaRSS = 100.0\n",
      "betaRSRS = 100.0\n",
      "gammarR = 1.0/5.0 #bye\n",
      "kR = 25 #revisar bien\n",
      "gammaR = 1.0/30.0 #bye\n",
      "kplus = 0.001\n",
      "kminus = 0.0005\n",
      "KM = 0.001\n",
      "kcat = 0.01\n",
      "kcatm = 0.01\n",
      "kMm = 0.001\n",
      "gammaB = 1.0/30.0 #bye\n",
      "A = 10.0 #mirar funcion\n",
      "\n",
      "E0 = 1\n",
      "R0 = 1"
     ],
     "language": "python",
     "metadata": {},
     "outputs": [],
     "prompt_number": 2
    },
    {
     "cell_type": "code",
     "collapsed": false,
     "input": [
      "def Astep(t_old, E_old, R_old, S_old):\n",
      "    \n",
      "    prodE = alphaS + betaS/(1 + (KS/S_old)**nS)\n",
      "    #degrE = gammarE*rE_old\n",
      "    \n",
      "    #prodE = kE*rE_old\n",
      "    degE = gammaE*E_old\n",
      "    \n",
      "    prodR1 = betaRSR/((KR/R_old)**nR + 1 + (S_old/KS)**nS*(KR/R_old)**nR + (S_old/KS)**nS)\n",
      "    prodR2 = betaRSS/((KS/S_old)**nS + (R_old/KR)**nR*(KS/S_old)**nS + 1 + (R_old/KR)**nR)\n",
      "    prodR3 = betaRSRS/((KR/R_old)**nR*(KS/S_old)**nS + (KS/S_old)**nS + (KR/R_old)**nR + 1)\n",
      "    \n",
      "    prodR = alphaRS + prodR1 + prodR2 + prodR3\n",
      "    #degrR = gammarR*rR_old\n",
      "    \n",
      "    #prodR = kR*rR_old\n",
      "    degR = gammaR*R_old\n",
      "    \n",
      "    #K = prodrE + degrE + prodE + degE + prodrR + degrR + prodR + degR\n",
      "    K = prodE + degE + prodR + degR\n",
      "    \n",
      "    \n",
      "    Dt = np.log(1.0/np.random.random())/K\n",
      "    which = np.random.random()\n",
      "    \n",
      "    t_new = t_old + Dt\n",
      "    \n",
      "    u1 = prodE/K\n",
      "    u2 = (prodE+degE)/K\n",
      "    u3 = (prodE+degE+prodR)/K\n",
      "    u4 = (prodE+degE+prodR+degR)/K\n",
      "    \n",
      "    if(which < u1):\n",
      "        E_new = E_old + kE/gammarE\n",
      "        R_new = R_old\n",
      "    elif(which >= u1 and which < u2):\n",
      "        E_new = E_old - 1\n",
      "        R_new = R_old\n",
      "    elif(which >= u2 and which < u3):\n",
      "        E_new = E_old\n",
      "        R_new = R_old + kR/gammarR\n",
      "    else:\n",
      "        E_new = E_old\n",
      "        R_new = R_old - 1\n",
      "    \n",
      "    return t_new, E_new, R_new"
     ],
     "language": "python",
     "metadata": {},
     "outputs": [],
     "prompt_number": 3
    },
    {
     "cell_type": "code",
     "collapsed": false,
     "input": [
      "def Onecell(dt, t_total):\n",
      "    \n",
      "    t = []\n",
      "    E = []\n",
      "    R = []\n",
      "    \n",
      "    t_c = 0\n",
      "    E_c = E0\n",
      "    R_c = R0\n",
      "    \n",
      "    t.append(0)\n",
      "    E.append(E0)\n",
      "    R.append(R0)\n",
      "    \n",
      "    while t_c < t_total:\n",
      "        \n",
      "        t_c, E_c, R_c = Astep(t_c, E_c, R_c, S)\n",
      "        \n",
      "        t.append(t_c)\n",
      "        E.append(E_c)\n",
      "        R.append(R_c)\n",
      "        \n",
      "        t_s = np.linspace(0, t_total-dt, t_total/dt)\n",
      "        E_s = np.zeros(len(t_s))\n",
      "        R_s = np.zeros(len(t_s))\n",
      "         \n",
      "    j = 0\n",
      "    for i in range(len(t_s)):\n",
      "        while(t[j] < t_s[i]):\n",
      "            j+=1\n",
      "                \n",
      "        E_s[i] = E[j]\n",
      "        R_s[i] = R[j]\n",
      "        \n",
      "    return t, E, R, t_s, E_s, R_s"
     ],
     "language": "python",
     "metadata": {},
     "outputs": [],
     "prompt_number": 4
    },
    {
     "cell_type": "code",
     "collapsed": false,
     "input": [
      "t_total = 100\n",
      "dt = 0.01\n",
      "\n",
      "t, E, R, t_s, E_s, R_s = Onecell(dt,t_total)"
     ],
     "language": "python",
     "metadata": {},
     "outputs": [],
     "prompt_number": 5
    },
    {
     "cell_type": "code",
     "collapsed": false,
     "input": [
      "plot(t,E)\n",
      "plt.show()\n",
      "plt.close()\n",
      "\n",
      "plot(t_s,E_s)\n",
      "plt.show()\n",
      "plt.close()"
     ],
     "language": "python",
     "metadata": {},
     "outputs": [
      {
       "metadata": {},
       "output_type": "display_data",
       "png": "[encoded data removed]",
       "text": [
        "<matplotlib.figure.Figure at 0x7fc82744d2d0>"
       ]
      },
      {
       "metadata": {},
       "output_type": "display_data",
       "png": "[encoded data removed]",
       "text": [
        "<matplotlib.figure.Figure at 0x7fc847eae310>"
       ]
      }
     ],
     "prompt_number": 7
    },
    {
     "cell_type": "code",
     "collapsed": false,
     "input": [
      "#funcion que devuelve Fpunto\n",
      "def funcFpp (F,A,P,E, Kc1,Km1,Kc2,Km2):\n",
      "    J = E + F + Km2\n",
      "    v = Kc1*P*A/(Km1+A) - Kc2*(J-sqrt(J**2 - 4*E*F))/2\n",
      "    return v\n",
      "\n",
      "#funcion que devuelve Bpunto\n",
      "def funcB (F,E, B, Kc2,Km2):\n",
      "    g = 1/30.0\n",
      "    J = E + F + Km2\n",
      "    v = Kc2*(J-sqrt(J**2 - 4*E*F))/2 - g*B\n",
      "    return v"
     ],
     "language": "python",
     "metadata": {},
     "outputs": [],
     "prompt_number": 8
    },
    {
     "cell_type": "code",
     "collapsed": false,
     "input": [
      "#RK\n",
      "def RKFpp (listf, listfp, listb, listbp, lista, listp, liste, kc1,km1,kc2,km2, dt, tmax):\n",
      "    n = 0\n",
      "    while n < tmax/dt - 1:\n",
      "        ftest = listf[n]\n",
      "        fptest = listfp[n]\n",
      "        btest = listb[n]\n",
      "        bptest = listbp[n]\n",
      "    \n",
      "        K1 = fptest*dt\n",
      "        L1 = bptest*dt\n",
      "    \n",
      "        ftest= listf[n] + 0.5*K1\n",
      "        btest= listb[n] + 0.5*L1\n",
      "        fptest = funcFpp(ftest, lista[n], listp[n], liste[n], kc1, km1, kc2, km2)\n",
      "        bptest = funcB(ftest, liste[n], btest, kc2, km2)\n",
      "    \n",
      "        K2 = fptest*dt\n",
      "        L2 = bptest*dt\n",
      "    \n",
      "        ftest= listf[n] + 0.5*K2\n",
      "        btest= listb[n] + 0.5*L2\n",
      "        fptest = funcFpp(ftest, lista[n], listp[n], liste[n], kc1, km1, kc2, km2)\n",
      "        bptest = funcB(ftest, liste[n], btest, kc2, km2)\n",
      "    \n",
      "        K3 = fptest*dt\n",
      "        L3 = bptest*dt\n",
      "    \n",
      "        ftest= listf[n] + 0.5*K3\n",
      "        btest= listb[n] + 0.5*L3\n",
      "        fptest = funcFpp(ftest, lista[n], listp[n], liste[n], kc1, km1, kc2, km2)\n",
      "        bptest = funcB(ftest, liste[n], btest, kc2, km2)\n",
      "    \n",
      "        K4 = fptest*dt\n",
      "        L4 = bptest*dt\n",
      "    \n",
      "        K = (K4 + 2*K3 + 2*K2 + K1)/6.0\n",
      "        L = (L4 + 2*L3 + 2*L2 + L1)/6.0\n",
      "    \n",
      "        listf[n+1] = listf[n] + K\n",
      "        if(listf[n+1] < 0): \n",
      "            listf[n+1]=0\n",
      "        listfp[n+1] = funcFpp(listf[n+1], lista[n], listp[n], liste[n], kc1, km1, kc2, km2)\n",
      "        listb[n+1] = listb[n] + L\n",
      "        if(listb[n+1] < 0): \n",
      "                listb[n+1]=0\n",
      "        listbp[n+1] = funcB(listf[n+1], liste[n], listB[n+1], kc2, km2)\n",
      "        \n",
      "        \n",
      "    \n",
      "        n = n+1"
     ],
     "language": "python",
     "metadata": {},
     "outputs": [],
     "prompt_number": 9
    },
    {
     "cell_type": "code",
     "collapsed": false,
     "input": [
      "tmax = 100 #tiempo de simulacion\n",
      "dt=0.01 #paso\n",
      "\n",
      "listF = zeros(tmax/dt) #lista de F\n",
      "listFp = zeros(tmax/dt) #lista de F punto\n",
      "listT = arange(0,tmax,dt) #lista de tiempo\n",
      "\n",
      "listA = ones(tmax/dt)*0.01  #lista de Senal (en teoria es constante, por la herbivoria)\n",
      "listP = R  #lista de Plasmido (entra al programa de la simulacion anterior) ahorita como si hubieran oscilaciones\n",
      "listE = E  #lista de Enzima (entra al programa de la simulacion anterior)\n",
      "listB = zeros(tmax/dt)  #lista de Berg\n",
      "listBp = zeros(tmax/dt) #lista de Berg punto\n",
      "\n",
      "B0 = 0.0\n",
      "F0 = 0.0\n",
      "listF[0] = F0 #se inicializa el valor de FPP\n",
      "listB[0] = B0 #se inicializa el valor de FPP\n",
      "\n",
      "\n",
      "Kc1 = 0.065 #kcat produccion FPP\n",
      "Kc2 = 0.34 #kcat consumo FPP\n",
      "Km1 = 0.0048 #km produccion FPP\n",
      "Km2 = 0.0014 #km consumo FPP\n",
      "\n",
      "listFp[0] = funcFpp(listF[0], listA[0], listP[0], listE[0], Kc1, Km1, Kc2, Km2)\n",
      "listBp[0] = funcB(listF[0], listE[0], listB[0], Kc2, Km2)"
     ],
     "language": "python",
     "metadata": {},
     "outputs": [],
     "prompt_number": 18
    },
    {
     "cell_type": "code",
     "collapsed": false,
     "input": [
      "RKFpp(listF, listFp, listB, listBp, listA, listP, listE, Kc1, Km1, Kc2, Km2, dt, tmax)"
     ],
     "language": "python",
     "metadata": {},
     "outputs": [],
     "prompt_number": 19
    },
    {
     "cell_type": "code",
     "collapsed": false,
     "input": [
      "plot(listT, listF)\n",
      "plot(listT, listB)\n",
      "xlabel(\"Tiempo\")\n",
      "ylabel(\"Concentracion\")"
     ],
     "language": "python",
     "metadata": {},
     "outputs": [
      {
       "metadata": {},
       "output_type": "pyout",
       "prompt_number": 20,
       "text": [
        "<matplotlib.text.Text at 0x7fc8261628d0>"
       ]
      },
      {
       "metadata": {},
       "output_type": "display_data",
       "png": "[encoded data removed]",
       "text": [
        "<matplotlib.figure.Figure at 0x7fc826eec450>"
       ]
      }
     ],
     "prompt_number": 20
    },
    {
     "cell_type": "code",
     "collapsed": false,
     "input": [],
     "language": "python",
     "metadata": {},
     "outputs": []
    }
   ],
   "metadata": {}
  }
 ]
}