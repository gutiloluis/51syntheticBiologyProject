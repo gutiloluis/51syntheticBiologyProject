{
 "metadata": {
  "name": ""
 },
 "nbformat": 3,
 "nbformat_minor": 0,
 "worksheets": [
  {
   "cells": [
    {
     "cell_type": "code",
     "collapsed": false,
     "input": [
      "%pylab inline"
     ],
     "language": "python",
     "metadata": {},
     "outputs": [
      {
       "output_type": "stream",
       "stream": "stdout",
       "text": [
        "Populating the interactive namespace from numpy and matplotlib\n"
       ]
      }
     ],
     "prompt_number": 1
    },
    {
     "cell_type": "markdown",
     "metadata": {},
     "source": [
      "1. Siempre podemos dejar la basal como una constante?\n",
      "2. Las ecuaciones de proteinas siempre quedan asi? Que podemos hacer con esas constantes? Se puede meter el burst?\n",
      "3. Las de A (y F) estan bien planteadas? Hay alguna relacion entre los alphas y betas viejos y los de aqui?\n",
      "4. Para la de A y de F hay diferencias?\n",
      "5. Como se mira la reaccion entre las enzimas E y F para producir B?\n",
      "6. Como se mete la diferencia de tiempo entre lo que se demora en llegar la senal a F y a E?\n",
      "7. Se puede tomar como que con represor se bloquea todo y no hay trascripcion?"
     ]
    },
    {
     "cell_type": "markdown",
     "metadata": {},
     "source": [
      "Si nos ponemos bien serios:\n",
      "\n",
      "$$\\dot{r_E}(t) = \\frac{\\alpha_S}{1+ \\left( \\frac{S}{K_S}\\right)^{n_S}} + \\frac{\\beta_S}{1+ \\left( \\frac{K_S}{S}\\right)^{n_S}} - \\gamma_{r_E} r_E$$\n",
      "$$\\dot{E}(t) = k_E r_E - \\gamma_E E$$\n",
      "\n",
      "$$\\dot{r_I}(t) = \\frac{\\alpha_A}{1+ \\left( \\frac{A}{K_A}\\right)^{n_A}} + \\frac{\\beta_A}{1+ \\left( \\frac{K_A}{A}\\right)^{n_A}} - \\gamma_{r_I} r_I$$\n",
      "$$\\dot{I}(t) = k_I r_I - \\gamma_I I$$\n",
      "\n",
      "$$\\dot{r_A}(t) = \n",
      "\\frac{\\alpha_{IS}}{1 + \\left( \\frac{I}{K_I} \\right)^{n_I} + \\left( \\frac{S}{K_S} \\right)^{n_S} + \\left( \\frac{S}{K_S} \\right)^{n_S} \\left( \\frac{I}{K_I} \\right)^{n_I}}\n",
      "+ \\frac{\\beta_{IS_I}}{\\left( \\frac{K_I}{I} \\right)^{n_I} + 1 + \\left( \\frac{S}{K_S} \\right)^{n_S} \\left( \\frac{K_I}{I} \\right)^{n_I} + \\left( \\frac{S}{K_S} \\right)^{n_S}}\n",
      "+ \\frac{\\beta_{IS_S}}{\\left( \\frac{K_S}{S} \\right)^{n_S} + \\left( \\frac{I}{K_I} \\right)^{n_I} \\left( \\frac{K_S}{S} \\right)^{n_S} + 1 + \\left( \\frac{I}{K_I} \\right)^{n_I}}\n",
      "+ \\frac{\\beta_{IS_{IS}}}{\\left( \\frac{K_I}{I} \\right)^{n_I} \\left( \\frac{K_S}{S} \\right)^{n_S} + \\left( \\frac{K_S}{S} \\right)^{n_S} + \\left( \\frac{K_I}{I} \\right)^{n_I} + 1}\n",
      "- \\gamma_{r_A} r_A$$\n",
      "$$\\dot{A}(t) = k_A r_A - \\gamma_A A$$\n",
      "\n",
      "$$\\dot{r_F}(t) = \n",
      "\\frac{\\alpha_{IS}}{1 + \\left( \\frac{I}{K_I} \\right)^{n_I} + \\left( \\frac{S}{K_S} \\right)^{n_S} + \\left( \\frac{S}{K_S} \\right)^{n_S} \\left( \\frac{I}{K_I} \\right)^{n_I}}\n",
      "+ \\frac{\\beta_{IS_I}}{\\left( \\frac{K_I}{I} \\right)^{n_I} + 1 + \\left( \\frac{S}{K_S} \\right)^{n_S} \\left( \\frac{K_I}{I} \\right)^{n_I} + \\left( \\frac{S}{K_S} \\right)^{n_S}}\n",
      "+ \\frac{\\beta_{IS_S}}{\\left( \\frac{K_S}{S} \\right)^{n_S} + \\left( \\frac{I}{K_I} \\right)^{n_I} \\left( \\frac{K_S}{S} \\right)^{n_S} + 1 + \\left( \\frac{I}{K_I} \\right)^{n_I}}\n",
      "+ \\frac{\\beta_{IS_{IS}}}{\\left( \\frac{K_I}{I} \\right)^{n_I} \\left( \\frac{K_S}{S} \\right)^{n_S} + \\left( \\frac{K_S}{S} \\right)^{n_S} + \\left( \\frac{K_I}{I} \\right)^{n_I} + 1}\n",
      "- \\gamma_{r_F} r_F$$\n",
      "$$\\dot{F}(t) = k_F r_F - \\gamma_F F$$\n",
      "\n",
      "$$\\dot{B}(t) = $$"
     ]
    },
    {
     "cell_type": "code",
     "collapsed": false,
     "input": [
      "print (\"D , DI, DS, DIS\")"
     ],
     "language": "python",
     "metadata": {},
     "outputs": [
      {
       "output_type": "stream",
       "stream": "stdout",
       "text": [
        "D , DI, DS, DIS\n"
       ]
      }
     ],
     "prompt_number": 3
    },
    {
     "cell_type": "markdown",
     "metadata": {},
     "source": [
      "Las de las enzimas que pasan de FPP a Berg\n",
      "\n",
      "$$\\dot{r_E}(t) = \\alpha_S + \\frac{\\beta_S}{1+ \\left( \\frac{K_S}{S}\\right)^{n_S}} - \\gamma_{r_E} r_E$$\n",
      "$$\\dot{E}(t) = k_E r_E - \\gamma_E E$$\n",
      "\n",
      "La del delay\n",
      "\n",
      "$$\\dot{r_I}(t) = \\alpha_A + \\frac{\\beta_A}{1+ \\left( \\frac{K_A}{A}\\right)^{n_A}} - \\gamma_{r_I} r_I$$\n",
      "$$\\dot{I}(t) = k_I r_I - \\gamma_I I$$\n",
      "\n",
      "La del plasmido\n",
      "\n",
      "$$\\dot{r_A}(t) = K_{FA} - \\gamma_{r_A} r_A$$\n",
      "$$\\dot{A}(t) = k_A r_A - \\gamma_A A$$\n",
      "\n",
      "$$\\dot{r_F}(t) = K_{FA} - \\gamma_{r_F} r_F$$\n",
      "$$\\dot{F}(t) = k_F r_F - \\gamma_F A$$\n",
      "\n",
      "donde\n",
      "$$K_{FA}=\\alpha_A \\frac{1}{1+\\frac{I}{K_I}+\\frac{K_S}{S}+\\frac{I}{S}\\frac{K_I}{K_S}} + \\alpha_{FA} \\frac{1}{1+\\frac{K_I}{I}+\\frac{K_S}{S}+\\frac{K_IK_S}{IS}} $$"
     ]
    },
    {
     "cell_type": "code",
     "collapsed": false,
     "input": [
      "    \n",
      "    "
     ],
     "language": "python",
     "metadata": {},
     "outputs": [],
     "prompt_number": 1
    },
    {
     "cell_type": "code",
     "collapsed": false,
     "input": [],
     "language": "python",
     "metadata": {},
     "outputs": []
    }
   ],
   "metadata": {}
  }
 ]
}