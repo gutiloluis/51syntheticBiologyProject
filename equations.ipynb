{
 "metadata": {
  "name": ""
 },
 "nbformat": 3,
 "nbformat_minor": 0,
 "worksheets": [
  {
   "cells": [
    {
     "cell_type": "code",
     "collapsed": false,
     "input": [
      "%pylab inline"
     ],
     "language": "python",
     "metadata": {},
     "outputs": [
      {
       "output_type": "stream",
       "stream": "stdout",
       "text": [
        "Populating the interactive namespace from numpy and matplotlib\n"
       ]
      }
     ],
     "prompt_number": 3
    },
    {
     "cell_type": "markdown",
     "metadata": {},
     "source": [
      "1 Siempre podemos dejar la basal como una constante?\n",
      "\n",
      "Si, siempre y cuando las K sean mucho mayores que las concentraciones\n",
      "\n",
      "2 Las ecuaciones de proteinas siempre quedan asi? Que podemos hacer con esas constantes? Se puede meter el burst?\n",
      "\n",
      "Es solo si se demora mucho en correr como una estrategia pa ahorrar tiempo\n",
      "\n",
      "3 Las de A (y F) estan bien planteadas? Hay alguna relacion entre los alphas y betas viejos y los de aqui?\n",
      "\n",
      "Si, depende de como se pongan los promotores o si se pega region operadora para el inhibidor y promotor para el activador. Si se hace como en el ultimo caso depende mucho en que sitio se ponga la region operadora, si antes del activador o despues. Si se pone despues (como habiamos pensado) \n",
      "\n",
      "4 Para la de A y de F hay diferencias?\n",
      "\n",
      "No, las podemos tomar como exactamente iguales hasta la enzima que produce FPP, pero hay que ver bien como son las reacciones enzimaticas y modelarlas como Michaelis Menten, pero con modelo determinista.\n",
      "\n",
      "5 Como se mira la reaccion entre las enzimas E y F para producir B?\n",
      "\n",
      "Con Michaelis Menten determinista\n",
      "\n",
      "6 Como se mete la diferencia de tiempo entre lo que se demora en llegar la senal a F y a E?\n",
      "\n",
      "Dandole como parametro a la funcion de avance no el tiempo inmediatamente anterior, sino determinado $\\Delta t$ segun el delay que tengamos\n",
      "\n",
      "7 Se puede tomar como que con represor se bloquea todo y no hay trascripcion?\n",
      "\n",
      "No, hay que mirar bien como es la fuerza de lacI para impedir el paso de la polimerasa y que tan fuerte es el otro activador para que siga pasando"
     ]
    },
    {
     "cell_type": "markdown",
     "metadata": {},
     "source": [
      "Si nos ponemos bien serios:\n",
      "\n",
      "$$\\dot{r_E}(t) = \\frac{\\alpha_S}{1+ \\left( \\frac{S}{K_S}\\right)^{n_S}} + \\frac{\\beta_S}{1+ \\left( \\frac{K_S}{S}\\right)^{n_S}} - \\gamma_{r_E} r_E$$\n",
      "$$\\dot{E}(t) = k_E r_E - \\gamma_E E$$\n",
      "\n",
      "$$\\dot{r_I}(t) = \\frac{\\alpha_A}{1+ \\left( \\frac{A}{K_A}\\right)^{n_A}} + \\frac{\\beta_A}{1+ \\left( \\frac{K_A}{A}\\right)^{n_A}} - \\gamma_{r_I} r_I$$\n",
      "$$\\dot{I}(t) = k_I r_I - \\gamma_I I$$\n",
      "\n",
      "$$\\dot{r_A}(t) = \n",
      "\\frac{\\alpha_{IS}}{1 + \\left( \\frac{I}{K_I} \\right)^{n_I} + \\left( \\frac{S}{K_S} \\right)^{n_S} + \\left( \\frac{S}{K_S} \\right)^{n_S} \\left( \\frac{I}{K_I} \\right)^{n_I}}\n",
      "+ \\frac{\\beta_{IS_I}}{\\left( \\frac{K_I}{I} \\right)^{n_I} + 1 + \\left( \\frac{S}{K_S} \\right)^{n_S} \\left( \\frac{K_I}{I} \\right)^{n_I} + \\left( \\frac{S}{K_S} \\right)^{n_S}}\n",
      "+ \\frac{\\beta_{IS_S}}{\\left( \\frac{K_S}{S} \\right)^{n_S} + \\left( \\frac{I}{K_I} \\right)^{n_I} \\left( \\frac{K_S}{S} \\right)^{n_S} + 1 + \\left( \\frac{I}{K_I} \\right)^{n_I}}\n",
      "+ \\frac{\\beta_{IS_{IS}}}{\\left( \\frac{K_I}{I} \\right)^{n_I} \\left( \\frac{K_S}{S} \\right)^{n_S} + \\left( \\frac{K_S}{S} \\right)^{n_S} + \\left( \\frac{K_I}{I} \\right)^{n_I} + 1}\n",
      "- \\gamma_{r_A} r_A$$\n",
      "$$\\dot{A}(t) = k_A r_A - \\gamma_A A$$\n",
      "\n",
      "$$\\dot{r_F}(t) = \n",
      "\\frac{\\alpha_{IS}}{1 + \\left( \\frac{I}{K_I} \\right)^{n_I} + \\left( \\frac{S}{K_S} \\right)^{n_S} + \\left( \\frac{S}{K_S} \\right)^{n_S} \\left( \\frac{I}{K_I} \\right)^{n_I}}\n",
      "+ \\frac{\\beta_{IS_I}}{\\left( \\frac{K_I}{I} \\right)^{n_I} + 1 + \\left( \\frac{S}{K_S} \\right)^{n_S} \\left( \\frac{K_I}{I} \\right)^{n_I} + \\left( \\frac{S}{K_S} \\right)^{n_S}}\n",
      "+ \\frac{\\beta_{IS_S}}{\\left( \\frac{K_S}{S} \\right)^{n_S} + \\left( \\frac{I}{K_I} \\right)^{n_I} \\left( \\frac{K_S}{S} \\right)^{n_S} + 1 + \\left( \\frac{I}{K_I} \\right)^{n_I}}\n",
      "+ \\frac{\\beta_{IS_{IS}}}{\\left( \\frac{K_I}{I} \\right)^{n_I} \\left( \\frac{K_S}{S} \\right)^{n_S} + \\left( \\frac{K_S}{S} \\right)^{n_S} + \\left( \\frac{K_I}{I} \\right)^{n_I} + 1}\n",
      "- \\gamma_{r_F} r_F$$\n",
      "$$\\dot{F}(t) = k_F r_F - \\gamma_F F$$\n",
      "\n",
      "$$\\dot{B}(t) = $$"
     ]
    },
    {
     "cell_type": "code",
     "collapsed": false,
     "input": [
      "float t, float S, float rA, float A, float rE, float E, float rI, float I"
     ],
     "language": "python",
     "metadata": {},
     "outputs": []
    },
    {
     "cell_type": "code",
     "collapsed": false,
     "input": [
      "print (\"D , DI, DS, DIS\")"
     ],
     "language": "python",
     "metadata": {},
     "outputs": [
      {
       "output_type": "stream",
       "stream": "stdout",
       "text": [
        "D , DI, DS, DIS\n"
       ]
      }
     ],
     "prompt_number": 3
    },
    {
     "cell_type": "markdown",
     "metadata": {},
     "source": [
      "Las de las enzimas que pasan de FPP a Berg\n",
      "\n",
      "$$\\dot{r_E}(t) = \\alpha_S + \\frac{\\beta_S}{1+ \\left( \\frac{K_S}{S}\\right)^{n_S}} - \\gamma_{r_E} r_E$$\n",
      "$$\\dot{E}(t) = k_E r_E - \\gamma_E E$$\n",
      "\n",
      "La del delay\n",
      "\n",
      "$$\\dot{r_I}(t) = \\alpha_A + \\frac{\\beta_A}{1+ \\left( \\frac{K_A}{A}\\right)^{n_A}} - \\gamma_{r_I} r_I$$\n",
      "$$\\dot{I}(t) = k_I r_I - \\gamma_I I$$\n",
      "\n",
      "La del plasmido\n",
      "\n",
      "$$\\dot{r_A}(t) = K_{FA} - \\gamma_{r_A} r_A$$\n",
      "$$\\dot{A}(t) = k_A r_A - \\gamma_A A$$\n",
      "\n",
      "$$\\dot{r_F}(t) = K_{FA} - \\gamma_{r_F} r_F$$\n",
      "$$\\dot{F}(t) = k_F r_F - \\gamma_F A$$\n",
      "\n",
      "donde\n",
      "$$K_{FA}=\\alpha_A \\frac{1}{1+\\frac{I}{K_I}+\\frac{K_S}{S}+\\frac{I}{S}\\frac{K_I}{K_S}} + \\alpha_{FA} \\frac{1}{1+\\frac{K_I}{I}+\\frac{K_S}{S}+\\frac{K_IK_S}{IS}} $$"
     ]
    },
    {
     "cell_type": "code",
     "collapsed": false,
     "input": [
      "A = np.loadtxt(\"data.dat\")"
     ],
     "language": "python",
     "metadata": {},
     "outputs": [],
     "prompt_number": 41
    },
    {
     "cell_type": "code",
     "collapsed": false,
     "input": [
      "plot(A[:,0],A[:,1])\n",
      "plt.show()\n",
      "plt.close()\n",
      "\n",
      "plot(A[:,0],A[:,2])\n",
      "plt.show()\n",
      "plt.close()"
     ],
     "language": "python",
     "metadata": {},
     "outputs": [
      {
       "metadata": {},
       "output_type": "display_data",
       "png": "[encoded data removed]",
       "text": [
        "<matplotlib.figure.Figure at 0x7f0f594160d0>"
       ]
      },
      {
       "metadata": {},
       "output_type": "display_data",
       "png": "[encoded data removed]",
       "text": [
        "<matplotlib.figure.Figure at 0x7f0f58772390>"
       ]
      }
     ],
     "prompt_number": 42
    },
    {
     "cell_type": "heading",
     "level": 3,
     "metadata": {},
     "source": [
      "Simulaci\u00f3n de Gillespie"
     ]
    },
    {
     "cell_type": "code",
     "collapsed": false,
     "input": [
      "def gill(tsim):\n",
      "    \n",
      "    \n",
      "    alphaS = 0.1  #basal de RNA Enzima\n",
      "    betaS = 1.0   #creacion RNA Enzima\n",
      "    gammRE = 1/5.0  #decaimiento RNA Enzima\n",
      "    kE = 33.0      #creacion Enzima\n",
      "    gammE = 1/3.0   #decaimiento Enzima\n",
      "    KS = 0.5      #activacion por Senal \n",
      "    \n",
      "    #alphaA = 0  #basal de Inhibidor\n",
      "    #betaA = 0   #creacion RNA Inhibidor\n",
      "    #gammRI = 0  #decaimiento RNA Inhibidor\n",
      "    #kI = 0      #creacion Inhibidor\n",
      "    #gammI = 0   #decaimiento Inhibidor\n",
      "    #KA = 0      #activacion por Activador\n",
      "    \n",
      "    #KFA = alphaA + alphaAF/(1+(KI/I) + (KS/S) + (KI*KS/I*S))\n",
      "    \n",
      "    t = 0.0\n",
      "    \n",
      "    \n",
      "    #listas\n",
      "    S = [1]\n",
      "    listRE = [1]\n",
      "    listE = [1]\n",
      "    listT = [0]\n",
      "    \n",
      "    E = 1\n",
      "    RE = 1\n",
      "    i = 0\n",
      "    \n",
      "    while(t<=tsim):\n",
      "        K = alphaS + (betaS*S[i]/(S[i]+(KS)**2)) + gammRE*listRE[i] + kE*listRE[i] + gammE*listE[i]\n",
      "        u = random.random(2) #numeros aleatorios\n",
      "        talgo = 1/K *np.log(1/u[0]) #tiempo para que suceda algo\n",
      "        if (u[1] <  alphaS/K): #crea RNA Enzima basal\n",
      "            RE = RE+1\n",
      "            E = E\n",
      "        elif (u[1] < (alphaS + (betaS*S[i]/(S[i]+(KS)**2)))/K): #crea RNA Enzima activado\n",
      "            RE = RE+5\n",
      "            E = E\n",
      "        elif (u[1] < (alphaS + (betaS*S[i]/(S[i]+(KS)**2)) + gammRE*listRE[i])/K): #destruye RNA Enzima\n",
      "            RE = RE-1\n",
      "            E = E\n",
      "        elif (u[1] < (alphaS + (betaS*S[i]/(S[i]+(KS)**2)) + gammRE*listRE[i] + kE*listRE[i])/K): #crea Enzima\n",
      "            RE = RE\n",
      "            E = E+1\n",
      "        else: #destruye Enzima por burst\n",
      "            RE = RE\n",
      "            E = E-1\n",
      "                       \n",
      "        listRE.append(RE)\n",
      "        listE.append(E)\n",
      "        listT.append(t+talgo)\n",
      "        t=t+talgo\n",
      "        if (t > tsim/2.0):\n",
      "            S.append(0)\n",
      "        else:\n",
      "            S.append(1)\n",
      "        i = i+1\n",
      "    \n",
      "    return listRE, listE, listT"
     ],
     "language": "python",
     "metadata": {},
     "outputs": [],
     "prompt_number": 48
    },
    {
     "cell_type": "code",
     "collapsed": false,
     "input": [
      "RE, E, T = gill(20)"
     ],
     "language": "python",
     "metadata": {},
     "outputs": [],
     "prompt_number": 49
    },
    {
     "cell_type": "code",
     "collapsed": false,
     "input": [
      "plot (T,RE)"
     ],
     "language": "python",
     "metadata": {},
     "outputs": [
      {
       "metadata": {},
       "output_type": "pyout",
       "prompt_number": 53,
       "text": [
        "[<matplotlib.lines.Line2D at 0xb0d4f42c>]"
       ]
      },
      {
       "metadata": {},
       "output_type": "display_data",
       "png": "[encoded data removed]",
       "text": [
        "<matplotlib.figure.Figure at 0xb0dd306c>"
       ]
      }
     ],
     "prompt_number": 53
    },
    {
     "cell_type": "code",
     "collapsed": false,
     "input": [],
     "language": "python",
     "metadata": {},
     "outputs": []
    }
   ],
   "metadata": {}
  }
 ]
}